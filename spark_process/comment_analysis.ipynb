{
 "cells": [
  {
   "cell_type": "code",
   "execution_count": 2,
   "id": "dc00f3c4",
   "metadata": {},
   "outputs": [],
   "source": [
    "import pyspark\n",
    "from pyspark.sql import SparkSession\n",
    "from pyspark.sql import SQLContext\n",
    "from pyspark.conf import SparkConf\n",
    "from pyspark.sql.types import StructType, StringType, ArrayType, IntegerType, StructField, LongType\n",
    "from pyspark.sql.functions import concat, split, col, when, lit, count,collect_list, filter\n",
    "from pyspark.sql.functions import regexp_replace,regexp_extract, udf, explode, struct, slice\n",
    "import datetime\n",
    "\n",
    "sc = SparkSession.builder.appName(\"oliiveSpark\").getOrCreate()"
   ]
  },
  {
   "cell_type": "code",
   "execution_count": 3,
   "id": "2cd0fa49",
   "metadata": {},
   "outputs": [],
   "source": [
    "schema = StructType().add(\"id\", StringType())\\\n",
    ".add(\"comment\", StringType())"
   ]
  },
  {
   "cell_type": "code",
   "execution_count": 4,
   "id": "29cd911e",
   "metadata": {},
   "outputs": [],
   "source": [
    "comment = sc.read.schema(schema).csv(\"review.csv\")"
   ]
  },
  {
   "cell_type": "code",
   "execution_count": 5,
   "id": "5edf15bc",
   "metadata": {},
   "outputs": [],
   "source": [
    "comment = comment.withColumn(\"revised_comment\", regexp_replace(\"comment\", \"[^A-Za-z0-9가-힣]\", ' ')).drop('comment')"
   ]
  },
  {
   "cell_type": "code",
   "execution_count": 6,
   "id": "24e5f421",
   "metadata": {},
   "outputs": [],
   "source": [
    "sq = SQLContext(sc)"
   ]
  },
  {
   "cell_type": "code",
   "execution_count": 7,
   "id": "8460c7c0",
   "metadata": {},
   "outputs": [],
   "source": [
    "comment.createOrReplaceTempView(\"comment\")\n",
    "\n",
    "merged = sq.sql(\"SELECT id, concat_ws('', collect_list(revised_comment)) as comment FROM comment group by id\")"
   ]
  },
  {
   "cell_type": "code",
   "execution_count": 8,
   "id": "efbe8864",
   "metadata": {},
   "outputs": [],
   "source": [
    "tokenized = merged.withColumn(\"comment\", split(\"comment\", \" \"))"
   ]
  },
  {
   "cell_type": "code",
   "execution_count": 9,
   "id": "9f8ecd4f",
   "metadata": {},
   "outputs": [
    {
     "name": "stdout",
     "output_type": "stream",
     "text": [
      "root\n",
      " |-- id: string (nullable = true)\n",
      " |-- comment: array (nullable = false)\n",
      " |    |-- element: string (containsNull = true)\n",
      "\n"
     ]
    }
   ],
   "source": [
    "tokenized.printSchema()"
   ]
  },
  {
   "cell_type": "code",
   "execution_count": 10,
   "id": "5634db45",
   "metadata": {},
   "outputs": [],
   "source": [
    "token_count = tokenized.select(\"id\", explode(\"comment\").alias(\"token\"))\\\n",
    ".groupBy(\"id\", \"token\")\\\n",
    ".count()\\\n",
    ".groupBy(\"id\")\\\n",
    ".agg(collect_list(struct(col(\"token\"), col(\"count\"))).alias(\"text\"))"
   ]
  },
  {
   "cell_type": "code",
   "execution_count": 11,
   "id": "ea05ccda",
   "metadata": {},
   "outputs": [],
   "source": [
    "sorted_token = token_count.sort(token_count.text.count.desc())"
   ]
  },
  {
   "cell_type": "code",
   "execution_count": 10,
   "id": "2daea183",
   "metadata": {},
   "outputs": [
    {
     "name": "stderr",
     "output_type": "stream",
     "text": [
      "                                                                                \r"
     ]
    },
    {
     "name": "stdout",
     "output_type": "stream",
     "text": [
      "+-------------+-------------------------+\n",
      "|           id|                     text|\n",
      "+-------------+-------------------------+\n",
      "|A000000166486|   [{, 15903}, {독도, ...|\n",
      "|A000000163730|   [{, 9765}, {핵심, 3...|\n",
      "|A000000149135| [{, 9698}, {라운드랩,...|\n",
      "|A000000166105|   [{, 9395}, {한달, 4...|\n",
      "|A000000149838|  [{, 9289}, {피부가, ...|\n",
      "|A000000145861|   [{, 8999}, {타입, 1...|\n",
      "|A000000163729|[{, 8642}, {디렉터파이...|\n",
      "|A000000166617|   [{, 8457}, {N통째, ...|\n",
      "|A000000156871|  [{, 8345}, {없으면, ...|\n",
      "|A000000167188|    [{, 8345}, {AHC의,...|\n",
      "|A000000156842| [{, 8161}, {속건조를,...|\n",
      "|A000000146635|   [{, 7045}, {본인, 8...|\n",
      "|A000000165945| [{, 6921}, {수분크림,...|\n",
      "|A000000167164| [{, 6875}, {피부타입,...|\n",
      "|A000000167141| [{, 6783}, {솔직후기,...|\n",
      "|A000000138762|  [{, 6229}, {코시국, ...|\n",
      "|A000000164212| [{, 6211}, {피지오겔,...|\n",
      "|A000000166586|[{, 5983}, {수분감진짜...|\n",
      "|A000000149268|   [{, 5951}, {구매, 1...|\n",
      "|A000000158696|   [{, 5947}, {본인, 6...|\n",
      "+-------------+-------------------------+\n",
      "only showing top 20 rows\n",
      "\n"
     ]
    }
   ],
   "source": [
    "sorted_token.show()"
   ]
  },
  {
   "cell_type": "code",
   "execution_count": 11,
   "id": "242958b3",
   "metadata": {},
   "outputs": [
    {
     "name": "stdout",
     "output_type": "stream",
     "text": [
      "root\n",
      " |-- id: string (nullable = true)\n",
      " |-- text: array (nullable = false)\n",
      " |    |-- element: struct (containsNull = false)\n",
      " |    |    |-- token: string (nullable = true)\n",
      " |    |    |-- count: long (nullable = false)\n",
      "\n"
     ]
    }
   ],
   "source": [
    "token_count.printSchema()"
   ]
  },
  {
   "cell_type": "code",
   "execution_count": 16,
   "id": "add56533",
   "metadata": {},
   "outputs": [
    {
     "name": "stderr",
     "output_type": "stream",
     "text": [
      "\r",
      "                                                                                \r"
     ]
    }
   ],
   "source": [
    "olive = sc.read.json(\"olive_20220612.json\")"
   ]
  },
  {
   "cell_type": "code",
   "execution_count": 31,
   "id": "67a0e4c2",
   "metadata": {},
   "outputs": [],
   "source": [
    "def def_sort(x) : \n",
    "    return sorted(x, key=lambda x :x[1], reverse = True)\n",
    "\n",
    "udf_sort = udf(def_sort, ArrayType(StructType([StructField(\"token\", StringType()),StructField(\"count\",LongType())])))\n",
    "\n",
    "sorted_t = token_count.select(\"id\", udf_sort(col(\"text\")).alias(\"text\"))"
   ]
  },
  {
   "cell_type": "code",
   "execution_count": 30,
   "id": "eed802be",
   "metadata": {},
   "outputs": [
    {
     "name": "stderr",
     "output_type": "stream",
     "text": [
      "[Stage 14:>                                                         (0 + 1) / 1]\r"
     ]
    },
    {
     "name": "stdout",
     "output_type": "stream",
     "text": [
      "+----------------------------+-------------+\n",
      "|                        text|           id|\n",
      "+----------------------------+-------------+\n",
      "|[{남자친구에게, 1}, {선물...|A000000163048|\n",
      "|       [{, 1697}, {잘, 14...|A000000150323|\n",
      "|       [{, 2966}, {잘, 26...|A000000151914|\n",
      "|       [{, 2832}, {잘, 24...|A000000148170|\n",
      "|       [{, 3144}, {잘, 29...|A000000166499|\n",
      "|       [{, 1655}, {잘, 15...|A000000010476|\n",
      "|       [{, 3237}, {잘, 26...|A000000148023|\n",
      "|      [{, 245}, {너무, 13...|A000000163762|\n",
      "|       [{, 9063}, {잘, 60...|A000000166296|\n",
      "|     [{, 5778}, {선크림, ...|A000000165474|\n",
      "|       [{, 4084}, {잘, 27...|A000000162571|\n",
      "|       [{, 12321}, {잘, 7...|A000000164916|\n",
      "|       [{, 14}, {것, 4}, ...|A000000165476|\n",
      "|       [{, 6783}, {잘, 39...|A000000167141|\n",
      "|     [{, 2246}, {아벤느, ...|A000000104007|\n",
      "|     [{, 2364}, {아벤느, ...|A000000160792|\n",
      "|      [{, 4771}, {너무, 2...|A000000129008|\n",
      "|       [{, 1158}, {잘, 92...|A000000156683|\n",
      "|       [{, 3378}, {이, 19...|A000000002839|\n",
      "|      [{, 2952}, {너무, 2...|A000000112805|\n",
      "+----------------------------+-------------+\n",
      "only showing top 20 rows\n",
      "\n"
     ]
    },
    {
     "name": "stderr",
     "output_type": "stream",
     "text": [
      "\r",
      "                                                                                \r"
     ]
    }
   ],
   "source": [
    "sorted_t.show()"
   ]
  },
  {
   "cell_type": "code",
   "execution_count": 43,
   "id": "14f559d2",
   "metadata": {},
   "outputs": [],
   "source": [
    "option = [\"저는\",\"제품\", \"선물을\", \"이건\", \"저의\", \"저희\",\"요즘\", \"본인\", \"원래\", \"했습니다\", \"이다\", \"사용\", \"후기\", \"이거\", \"좀\",\"잘\", \"너무\", \"것\", \"같아요\", \"이\", \"가\", \"은\", \"는\", \"더\", \"많이\", \"쓰고\"]\n",
    "stop_words = olive.rdd.flatMap(lambda x : [x.brand, x.big_category, x.small_category]).collect()\n",
    "stop_words.extend(option)\n",
    "\n",
    "is_none = lambda x : x != ''\n",
    "is_stop = lambda x : ~(x.isin(stop_words))\n",
    "\n",
    "\n",
    "res = sorted_t\\\n",
    ".withColumn(\"removed\", filter(col(\"text.token\"), is_none))\\\n",
    ".withColumn(\"token\", filter(col(\"removed\"), is_stop))\\\n",
    ".withColumn(\"token\", slice(col(\"token\"), 1, 10))\\\n",
    ".drop(\"text\")\\\n",
    ".drop(\"removed\")"
   ]
  },
  {
   "cell_type": "code",
   "execution_count": 44,
   "id": "1b8c9ac6",
   "metadata": {},
   "outputs": [],
   "source": [
    "joined = res.join(olive, res.id == olive.id)\n",
    "joined = joined.dropDuplicates(['id'])\n",
    "final = joined.select(['name','comment.id', 'token'])"
   ]
  },
  {
   "cell_type": "code",
   "execution_count": 45,
   "id": "3b209e54",
   "metadata": {},
   "outputs": [
    {
     "name": "stderr",
     "output_type": "stream",
     "text": [
      "[Stage 50:===================>                                      (3 + 6) / 9]\r"
     ]
    },
    {
     "name": "stdout",
     "output_type": "stream",
     "text": [
      "+------------------------------------+-------------+------------------------------+\n",
      "|                                name|           id|                         token|\n",
      "+------------------------------------+-------------+------------------------------+\n",
      "| 에비앙 브뤼미자뙤르 페이셜미스트...|A000000001588|[미스트, 좋아요, 작아서, 좋...|\n",
      "|      바이오더마 센시비오 토너 250ml|A000000002839|[피부가, 토너, 좋아요, 좋은...|\n",
      "|   바이오더마 하이드라비오 토너 2...|A000000004434|[좋아요, 토너, 정말, 피부가...|\n",
      "|    유세린 더모 퓨리파이어 토너 2...|A000000005766|[피부에, 좋아요, 사용하고, ...|\n",
      "| 유세린 더모퓨리파이어 오일컨트롤...|A000000005767|[좋아요, 피부에, 피부, 피부...|\n",
      "|  라로슈포제 유비데아 XL 멜트인 크림|A000000010462|[선크림, 좋아요, 다른, 정말...|\n",
      "|   라로슈포제 에빠끌라 H 리밸런싱...|A000000010474|[좋아요, 피부가, 토너, 피부...|\n",
      "|라로슈포제 에빠끌라 퓨리파잉 포밍 젤|A000000010476|[좋아요, 피부가, 거품이, 다...|\n",
      "|  라로슈포제 똘러리앙 퓨리파잉 포...|A000000010482|[좀, 좋아요, 피부가, 거품이...|\n",
      "|     아벤느 오 떼르말 더블 기획 (...|A000000010507|[미스트, 좋아요, 피부가, 때...|\n",
      "|   아벤느 클리낭스 매트 매티파잉 ...|A000000011268|[피부에, 좋아요, 토너, 피부...|\n",
      "|     피지오겔 DMT 데일리보습 로션...|A000000012809|[로션, 피부가, 좋아요, 정말...|\n",
      "|    유리아쥬 오 떼르말 더블 기획 ...|A000000014358|[미스트, 좋아요, 미스트를, ...|\n",
      "|      바이오더마 센시비오 토너 100ml|A000000014948|[좋아요, 순하고, 피부가, 순...|\n",
      "|    듀크레이 케라크닐 모공 토너 2...|A000000016152|[다른, 피부가, 자극이, 같이...|\n",
      "|     아벤느 트릭세라 로션 (본품20...|A000000016686| [피부가, 진짜, 바르고, 수,...|\n",
      "|               아벤느 오 떼르말 50ml|A000000016694| [좋아요, 미스트, 때, 정말,...|\n",
      "|               아벤느 오떼르말 300ml|A000000016697|  [좋아요, 미스트, 수, 때, ...|\n",
      "|   라로슈포제 시카플라스트 라방 B...|A000000016704| [좋아요, 순하고, 다, 정말,...|\n",
      "|          유리아쥬 제모스 토너 250ml|A000000016873| [좋아요, 토너, 제모스, 다,...|\n",
      "+------------------------------------+-------------+------------------------------+\n",
      "only showing top 20 rows\n",
      "\n"
     ]
    },
    {
     "name": "stderr",
     "output_type": "stream",
     "text": [
      "\r",
      "[Stage 50:======================================>                   (6 + 3) / 9]\r",
      "\r",
      "                                                                                \r"
     ]
    }
   ],
   "source": [
    "final.show()"
   ]
  },
  {
   "cell_type": "code",
   "execution_count": 46,
   "id": "0466dac6",
   "metadata": {},
   "outputs": [
    {
     "name": "stderr",
     "output_type": "stream",
     "text": [
      "                                                                                \r"
     ]
    }
   ],
   "source": [
    "final.write.json(\"analysls\")"
   ]
  },
  {
   "cell_type": "code",
   "execution_count": null,
   "id": "da3c5bcd",
   "metadata": {},
   "outputs": [],
   "source": []
  }
 ],
 "metadata": {
  "kernelspec": {
   "display_name": "Python 3 (ipykernel)",
   "language": "python",
   "name": "python3"
  },
  "language_info": {
   "codemirror_mode": {
    "name": "ipython",
    "version": 3
   },
   "file_extension": ".py",
   "mimetype": "text/x-python",
   "name": "python",
   "nbconvert_exporter": "python",
   "pygments_lexer": "ipython3",
   "version": "3.9.12"
  }
 },
 "nbformat": 4,
 "nbformat_minor": 5
}
